{
 "cells": [
  {
   "cell_type": "code",
   "execution_count": 1,
   "id": "69c3cd8a",
   "metadata": {},
   "outputs": [],
   "source": [
    "import sys\n",
    "sys.path.append(\"../codes\")\n",
    "from pl_algorithms import Model\n",
    "import numpy as np\n",
    "from sklearn.model_selection import train_test_split"
   ]
  },
  {
   "cell_type": "code",
   "execution_count": 2,
   "id": "8e9df01d",
   "metadata": {},
   "outputs": [
    {
     "name": "stdout",
     "output_type": "stream",
     "text": [
      "X shape: (1122, 108)\n",
      "y_pl shape: (1122, 16)\n",
      "y shape: (1122, 16)\n",
      "\n"
     ]
    }
   ],
   "source": [
    "# load data\n",
    "X = np.loadtxt(\"../data/lost/X.csv\", delimiter=\",\")\n",
    "y_pl = np.loadtxt(\"../data/lost/y_pl.csv\", delimiter=\",\").T\n",
    "y = np.loadtxt(\"../data/lost/y.csv\", delimiter=\",\").T\n",
    "\n",
    "print(f\"X shape: {X.shape}\\ny_pl shape: {y_pl.shape}\\ny shape: {y.shape}\\n\")"
   ]
  },
  {
   "cell_type": "code",
   "execution_count": 3,
   "id": "99fcdf8d",
   "metadata": {},
   "outputs": [],
   "source": [
    "X_train, X_test, y_pl_train, y_pl_test, y_train, y_test = train_test_split(X,y_pl,y, train_size=0.7, random_state=25)"
   ]
  },
  {
   "cell_type": "code",
   "execution_count": 4,
   "id": "1636eef6",
   "metadata": {},
   "outputs": [],
   "source": [
    "\n",
    "model = Model(X_train, y_pl_train)\n",
    "X_new = model.select_saute(60)\n",
    "\n",
    "y_without_saute= model.knn_predict(X_test, 8)\n",
    "y_with_saute = model.knn_predict(X_test,8, use_selected_vars=True)"
   ]
  },
  {
   "cell_type": "code",
   "execution_count": null,
   "id": "c83fcd3c",
   "metadata": {},
   "outputs": [
    {
     "name": "stdout",
     "output_type": "stream",
     "text": [
      "accuracy with saute: 0.49258160237388726\n",
      "accuracy without saute: 0.4807121661721068\n"
     ]
    }
   ],
   "source": [
    "# check accuracy\n",
    "\n",
    "acc_without_saute = np.sum((y_without_saute == np.argmax(y_pl_test, axis=1)))/y_pl_test.shape[0]\n",
    "acc_with_saute = np.sum((y_with_saute == np.argmax(y_pl_test, axis=1)))/y_pl_test.shape[0]\n",
    "\n",
    "print(f\"accuracy with saute: {acc_with_saute}\\naccuracy without saute: {acc_without_saute}\")\n"
   ]
  }
 ],
 "metadata": {
  "kernelspec": {
   "display_name": "Python 3",
   "language": "python",
   "name": "python3"
  },
  "language_info": {
   "codemirror_mode": {
    "name": "ipython",
    "version": 3
   },
   "file_extension": ".py",
   "mimetype": "text/x-python",
   "name": "python",
   "nbconvert_exporter": "python",
   "pygments_lexer": "ipython3",
   "version": "3.10.6"
  }
 },
 "nbformat": 4,
 "nbformat_minor": 5
}
