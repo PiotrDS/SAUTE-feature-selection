{
 "cells": [
  {
   "cell_type": "markdown",
   "id": "ce6ed3b9",
   "metadata": {},
   "source": [
    "# SAUTE-feature-selection guide"
   ]
  },
  {
   "cell_type": "code",
   "execution_count": 1,
   "id": "69c3cd8a",
   "metadata": {},
   "outputs": [],
   "source": [
    "#load libraries\n",
    "import sys\n",
    "sys.path.append(\"../codes\")\n",
    "from pl_algorithms import Model\n",
    "import numpy as np\n",
    "from sklearn.model_selection import train_test_split\n",
    "import math"
   ]
  },
  {
   "cell_type": "code",
   "execution_count": 2,
   "id": "8e9df01d",
   "metadata": {},
   "outputs": [
    {
     "name": "stdout",
     "output_type": "stream",
     "text": [
      "X shape: (1122, 108)\n",
      "y_pl shape: (1122, 16)\n",
      "y shape: (1122, 16)\n",
      "\n"
     ]
    }
   ],
   "source": [
    "# load data\n",
    "X = np.loadtxt(\"../data/lost/X.csv\", delimiter=\",\")\n",
    "y_pl = np.loadtxt(\"../data/lost/y_pl.csv\", delimiter=\",\").T\n",
    "y = np.loadtxt(\"../data/lost/y.csv\", delimiter=\",\").T\n",
    "\n",
    "print(f\"X shape: {X.shape}\\ny_pl shape: {y_pl.shape}\\ny shape: {y.shape}\\n\")"
   ]
  },
  {
   "cell_type": "code",
   "execution_count": 3,
   "id": "99fcdf8d",
   "metadata": {},
   "outputs": [],
   "source": [
    "# split data into training and test subsets\n",
    "X_train, X_test, y_pl_train, y_pl_test, y_train, y_test = train_test_split(X,y_pl,y, train_size=0.7, random_state=25)"
   ]
  },
  {
   "cell_type": "code",
   "execution_count": 6,
   "id": "1636eef6",
   "metadata": {},
   "outputs": [
    {
     "name": "stdout",
     "output_type": "stream",
     "text": [
      "Accuracy without saute using PL-KNN: 0.4807121661721068\n",
      "Accuracy without saute using IPAL: 0.4658753709198813.\n"
     ]
    }
   ],
   "source": [
    "# initialize model on X_train and y_pl_train\n",
    "model = Model(X_train, y_pl_train)\n",
    "\n",
    "# classify X_test \n",
    "y_knn_without_saute= model.knn_predict(X_test, knn=8)\n",
    "y_ipal_without_saute= model.ipal_predict(X_test, knn=8)\n",
    "\n",
    "# check accuracy\n",
    "acc_knn_without_saute = np.sum((y_knn_without_saute == np.argmax(y_pl_test, axis=1)))/y_pl_test.shape[0]\n",
    "acc_ipal_without_saute = np.sum((y_ipal_without_saute == np.argmax(y_pl_test, axis=1)))/y_pl_test.shape[0]\n",
    "print(f\"Accuracy without saute using PL-KNN: {acc_knn_without_saute}\\nAccuracy without saute using IPAL: {acc_ipal_without_saute}.\")"
   ]
  },
  {
   "cell_type": "code",
   "execution_count": 8,
   "id": "c83fcd3c",
   "metadata": {},
   "outputs": [
    {
     "name": "stdout",
     "output_type": "stream",
     "text": [
      "accuracy knn without saute: 0.4807121661721068; accuracy ipal without saute: 0.4658753709198813\n",
      "accuracy knn with saute: 0.49851632047477745; accuracy ipal without saute: 0.456973293768546\n",
      "accuracy knn with saute_ipalall: 0.4629080118694362; accuracy ipal without saute_ipalall: 0.4540059347181009\n",
      "accuracy knn with saute_ipalfrac: 0.4836795252225519; accuracy ipal without saute_ipalfrac: 0.4421364985163205\n"
     ]
    }
   ],
   "source": [
    "# select variables using saute and it's modification\n",
    "\n",
    "vars_no = math.ceil(X.shape[1] / 2) # number of variables to select\n",
    "\n",
    "# SAUTE - original method\n",
    "\n",
    "model.select_saute(vars_no, criterium='original')\n",
    "\n",
    "y_knn_with_saute = model.knn_predict(X_test,8, use_selected_vars=True)\n",
    "y_ipal_with_saute = model.ipal_predict(X_test,8, use_selected_vars=True)\n",
    "\n",
    "acc_knn_with_saute = np.sum((y_knn_with_saute == np.argmax(y_pl_test, axis=1)))/y_pl_test.shape[0]\n",
    "acc_ipal_with_saute = np.sum((y_ipal_with_saute == np.argmax(y_pl_test, axis=1)))/y_pl_test.shape[0]\n",
    "\n",
    "# SAUTE-IPALALL - modification\n",
    "\n",
    "model.select_saute(vars_no, criterium='original',learning_type='IPALall')\n",
    "\n",
    "y_knn_with_saute_ipalall = model.knn_predict(X_test,8, use_selected_vars=True)\n",
    "y_ipal_with_saute_ipalall = model.ipal_predict(X_test,8, use_selected_vars=True)\n",
    "\n",
    "acc_knn_with_saute_ipalall = np.sum((y_knn_with_saute_ipalall == np.argmax(y_pl_test, axis=1)))/y_pl_test.shape[0]\n",
    "acc_ipal_with_saute_ipalall = np.sum((y_ipal_with_saute_ipalall == np.argmax(y_pl_test, axis=1)))/y_pl_test.shape[0]\n",
    "\n",
    "# SAUTE-IPALFRAC - modification\n",
    "\n",
    "model.select_saute(vars_no, criterium='original', learning_type='IPALfrac')\n",
    "\n",
    "y_knn_with_saute_ipalfrac = model.knn_predict(X_test,8, use_selected_vars=True)\n",
    "y_ipal_with_saute_ipalfrac = model.ipal_predict(X_test,8, use_selected_vars=True)\n",
    "\n",
    "acc_knn_with_saute_ipalfrac = np.sum((y_knn_with_saute_ipalfrac == np.argmax(y_pl_test, axis=1)))/y_pl_test.shape[0]\n",
    "acc_ipal_with_saute_ipalfrac = np.sum((y_ipal_with_saute_ipalfrac == np.argmax(y_pl_test, axis=1)))/y_pl_test.shape[0]\n",
    "\n",
    "\n",
    "\n",
    "print(f\"accuracy knn without saute: {acc_knn_without_saute}; accuracy ipal without saute: {acc_ipal_without_saute}\")\n",
    "print(f\"accuracy knn with saute: {acc_knn_with_saute}; accuracy ipal without saute: {acc_ipal_with_saute}\")\n",
    "print(f\"accuracy knn with saute_ipalall: {acc_knn_with_saute_ipalall}; accuracy ipal without saute_ipalall: {acc_ipal_with_saute_ipalall}\")\n",
    "print(f\"accuracy knn with saute_ipalfrac: {acc_knn_with_saute_ipalfrac}; accuracy ipal without saute_ipalfrac: {acc_ipal_with_saute_ipalfrac}\")"
   ]
  }
 ],
 "metadata": {
  "kernelspec": {
   "display_name": "Python 3",
   "language": "python",
   "name": "python3"
  },
  "language_info": {
   "codemirror_mode": {
    "name": "ipython",
    "version": 3
   },
   "file_extension": ".py",
   "mimetype": "text/x-python",
   "name": "python",
   "nbconvert_exporter": "python",
   "pygments_lexer": "ipython3",
   "version": "3.10.6"
  }
 },
 "nbformat": 4,
 "nbformat_minor": 5
}
