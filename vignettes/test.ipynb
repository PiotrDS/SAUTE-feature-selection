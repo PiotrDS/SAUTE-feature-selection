{
 "cells": [
  {
   "cell_type": "code",
   "execution_count": 1,
   "id": "69c3cd8a",
   "metadata": {},
   "outputs": [],
   "source": [
    "import sys\n",
    "sys.path.append(\"../codes\")\n",
    "from pl_algorithms import Model\n",
    "import numpy as np"
   ]
  },
  {
   "cell_type": "code",
   "execution_count": 2,
   "id": "8e9df01d",
   "metadata": {},
   "outputs": [],
   "source": [
    "X = np.loadtxt(\"../data/lost/X.csv\", delimiter=\",\")\n",
    "y_pl = np.loadtxt(\"../data/lost/y_pl.csv\", delimiter=\",\").T\n",
    "y = np.loadtxt(\"../data/lost/y.csv\", delimiter=\",\").T"
   ]
  },
  {
   "cell_type": "code",
   "execution_count": 3,
   "id": "04205b0a",
   "metadata": {},
   "outputs": [
    {
     "name": "stdout",
     "output_type": "stream",
     "text": [
      "X shape: (1122, 108)\n",
      "y_pl shape: (1122, 16)\n",
      "y shape: (1122, 16)\n",
      "\n"
     ]
    }
   ],
   "source": [
    "print(f\"X shape: {X.shape}\\ny_pl shape: {y_pl.shape}\\ny shape: {y.shape}\\n\")"
   ]
  },
  {
   "cell_type": "code",
   "execution_count": 4,
   "id": "86daa954",
   "metadata": {},
   "outputs": [],
   "source": [
    "model = Model(X, y_pl)"
   ]
  }
 ],
 "metadata": {
  "kernelspec": {
   "display_name": "Python 3",
   "language": "python",
   "name": "python3"
  },
  "language_info": {
   "codemirror_mode": {
    "name": "ipython",
    "version": 3
   },
   "file_extension": ".py",
   "mimetype": "text/x-python",
   "name": "python",
   "nbconvert_exporter": "python",
   "pygments_lexer": "ipython3",
   "version": "3.10.6"
  }
 },
 "nbformat": 4,
 "nbformat_minor": 5
}
